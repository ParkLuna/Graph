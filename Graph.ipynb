{
 "cells": [
  {
   "cell_type": "code",
   "execution_count": 2,
   "metadata": {},
   "outputs": [
    {
     "name": "stdout",
     "output_type": "stream",
     "text": [
      "BFS traversal starting from node 1\n",
      "1 3 2 "
     ]
    }
   ],
   "source": [
    "#1)Breadth First Travgersal for Graph\n",
    "\n",
    "from collections import defaultdict, deque\n",
    "\n",
    "def bfs(graph, start):\n",
    "    visited = set()\n",
    "    queue = deque([start])\n",
    "    while queue:\n",
    "        node = queue.popleft()\n",
    "        if node not in visited:\n",
    "            print(node, end=\" \")\n",
    "            visited.add(node)\n",
    "            queue.extend(neighbor for neighbor in graph[node] if neighbor not in visited)\n",
    "\n",
    "graph = defaultdict(list)\n",
    "\n",
    "while True:\n",
    "    u, v = map(int, input(\"Enter edge (u v): \").split())\n",
    "    if u == -1 and v == -1:\n",
    "        break\n",
    "    graph[u].append(v)\n",
    "\n",
    "start_node = int(input(\"Enter the starting node for BFS traversal: \"))\n",
    "print(\"BFS traversal starting from node\", start_node)\n",
    "bfs(graph, start_node)\n"
   ]
  },
  {
   "cell_type": "code",
   "execution_count": 3,
   "metadata": {},
   "outputs": [
    {
     "name": "stdout",
     "output_type": "stream",
     "text": [
      "DFS traversal starting from node 1\n",
      "1 3 "
     ]
    }
   ],
   "source": [
    "#2)Depth First Traversal in Graph\n",
    "\n",
    "from collections import defaultdict\n",
    "\n",
    "class Graph:\n",
    "    def __init__(self):\n",
    "        self.graph = defaultdict(list)\n",
    "\n",
    "    def add_edge(self, u, v):\n",
    "        self.graph[u].append(v)\n",
    "\n",
    "    def dfs(self, node, visited):\n",
    "        if node not in visited:\n",
    "            print(node, end=\" \")\n",
    "            visited.add(node)\n",
    "            for neighbor in self.graph[node]:\n",
    "                self.dfs(neighbor, visited)\n",
    "\n",
    "g = Graph()\n",
    "\n",
    "while True:\n",
    "    u, v = map(int, input(\"Enter edge (u v) or type 'done' to finish: \").split())\n",
    "    if u == -1 and v == -1:\n",
    "        break\n",
    "    g.add_edge(u, v)\n",
    "\n",
    "start_node = int(input(\"Enter the starting node for DFS traversal: \"))\n",
    "print(\"DFS traversal starting from node\", start_node)\n",
    "g.dfs(start_node, set())\n"
   ]
  },
  {
   "cell_type": "code",
   "execution_count": 7,
   "metadata": {},
   "outputs": [
    {
     "name": "stdout",
     "output_type": "stream",
     "text": [
      "Number of nodes at level 2: 1\n"
     ]
    }
   ],
   "source": [
    "#3)Count the number of nodes at given level in a tree using BFS\n",
    "\n",
    "class TreeNode:\n",
    "    def __init__(self, data):\n",
    "        self.data = data\n",
    "        self.left = None\n",
    "        self.right = None\n",
    "\n",
    "# Function to count nodes at a given level in a binary tree\n",
    "def count_nodes_at_level(root, level):\n",
    "    if not root:\n",
    "        return 0\n",
    "    if level == 1:\n",
    "        return 1\n",
    "    return count_nodes_at_level(root.left, level - 1) + count_nodes_at_level(root.right, level - 1)\n",
    "\n",
    "# Function to build a binary tree based on user input\n",
    "def build_binary_tree():\n",
    "    data = int(input(\"Enter the node value (or -1 to stop): \"))\n",
    "    if data == -1:\n",
    "        return None\n",
    "    node = TreeNode(data)\n",
    "    node.left = build_binary_tree()\n",
    "    node.right = build_binary_tree()\n",
    "    return node\n",
    "\n",
    "# Main \n",
    "\n",
    "root = build_binary_tree()\n",
    "level = int(input(\"Enter the level to count nodes: \"))\n",
    "node_count = count_nodes_at_level(root, level)\n",
    "print(f\"Number of nodes at level {level}: {node_count}\")\n"
   ]
  },
  {
   "cell_type": "code",
   "execution_count": 7,
   "metadata": {},
   "outputs": [
    {
     "name": "stdout",
     "output_type": "stream",
     "text": [
      "Enter edges (u v):\n",
      "5 2\n",
      "9 7\n",
      "4 3\n",
      "6 1\n",
      "8 2\n",
      "4 6\n",
      "Number of trees in the forest: 3\n"
     ]
    }
   ],
   "source": [
    "#4)Count number of trees in a forest\n",
    "\n",
    "\n",
    "class Graph:\n",
    "    def __init__(self):\n",
    "        self.graph = {}\n",
    "\n",
    "    def add_edge(self, u, v):\n",
    "        self.graph.setdefault(u, []).append(v)\n",
    "        self.graph.setdefault(v, []).append(u)\n",
    "\n",
    "def count_trees(graph):\n",
    "    visited = set()\n",
    "    trees = 0\n",
    "\n",
    "    def dfs(node):\n",
    "        visited.add(node)\n",
    "        for neighbor in graph.get(node, []):\n",
    "            if neighbor not in visited:\n",
    "                dfs(neighbor)\n",
    "\n",
    "    for node in graph:\n",
    "        if node not in visited:\n",
    "            trees += 1\n",
    "            dfs(node)\n",
    "    return trees\n",
    "\n",
    "g = Graph()\n",
    "\n",
    "num_nodes = int(input(\"Enter the number of nodes: \"))\n",
    "num_edges = int(input(\"Enter the number of edges: \"))\n",
    "\n",
    "print(\"Enter edges (u v):\")\n",
    "\n",
    "for _ in range(num_edges):\n",
    "    u, v = map(int, input().split())\n",
    "    g.add_edge(u, v)\n",
    "    print(u,v)\n",
    "\n",
    "tree_count = count_trees(g.graph)\n",
    "print(\"Number of trees in the forest:\", tree_count)"
   ]
  },
  {
   "cell_type": "code",
   "execution_count": 12,
   "metadata": {},
   "outputs": [
    {
     "name": "stdout",
     "output_type": "stream",
     "text": [
      "Enter edges (u v):\n",
      "9 8\n",
      "8 7\n",
      "7 6\n",
      "6 5\n",
      "5 4\n",
      "4 7\n",
      "The graph has a cycle.\n"
     ]
    }
   ],
   "source": [
    "#5)Detect the cycle\n",
    "\n",
    "from collections import defaultdict\n",
    "\n",
    "def has_cycle(graph, node, visited, stack):\n",
    "    visited[node] = True\n",
    "    stack[node] = True\n",
    "\n",
    "    for neighbor in graph[node]:\n",
    "        if not visited[neighbor] and has_cycle(graph, neighbor, visited, stack):\n",
    "            return True\n",
    "        elif stack[neighbor]:\n",
    "            return True\n",
    "\n",
    "    stack[node] = False\n",
    "    return False\n",
    "\n",
    "# Main\n",
    "graph = defaultdict(list)\n",
    "\n",
    "num_nodes = int(input(\"Enter the number of nodes: \"))\n",
    "num_edges = int(input(\"Enter the number of edges: \"))\n",
    "\n",
    "print(\"Enter edges (u v):\")\n",
    "for _ in range(num_edges):\n",
    "    u, v = map(int, input().split())\n",
    "    graph[u].append(v)\n",
    "    print(u,v)\n",
    "\n",
    "cycle_exists = any(has_cycle(graph, node, [False] * (num_nodes + 1), [False] * (num_nodes + 1)) for node in range(1, num_nodes + 1))\n",
    "\n",
    "if cycle_exists:\n",
    "    print(\"The graph has a cycle.\")\n",
    "else:\n",
    "    print(\"The graph does not have a cycle.\")\n"
   ]
  },
  {
   "cell_type": "code",
   "execution_count": 1,
   "metadata": {},
   "outputs": [
    {
     "name": "stdout",
     "output_type": "stream",
     "text": [
      "Number of solutions: 40\n",
      "[0, 2, 4, 6, 1, 3, 5]\n",
      "[0, 3, 6, 2, 5, 1, 4]\n",
      "[0, 4, 1, 5, 2, 6, 3]\n",
      "[0, 5, 3, 1, 6, 4, 2]\n",
      "[1, 3, 0, 6, 4, 2, 5]\n",
      "[1, 3, 5, 0, 2, 4, 6]\n",
      "[1, 4, 0, 3, 6, 2, 5]\n",
      "[1, 4, 2, 0, 6, 3, 5]\n",
      "[1, 4, 6, 3, 0, 2, 5]\n",
      "[1, 5, 2, 6, 3, 0, 4]\n",
      "[1, 6, 4, 2, 0, 5, 3]\n",
      "[2, 0, 5, 1, 4, 6, 3]\n",
      "[2, 0, 5, 3, 1, 6, 4]\n",
      "[2, 4, 6, 1, 3, 5, 0]\n",
      "[2, 5, 1, 4, 0, 3, 6]\n",
      "[2, 6, 1, 3, 5, 0, 4]\n",
      "[2, 6, 3, 0, 4, 1, 5]\n",
      "[3, 0, 2, 5, 1, 6, 4]\n",
      "[3, 0, 4, 1, 5, 2, 6]\n",
      "[3, 1, 6, 4, 2, 0, 5]\n",
      "[3, 5, 0, 2, 4, 6, 1]\n",
      "[3, 6, 2, 5, 1, 4, 0]\n",
      "[3, 6, 4, 1, 5, 0, 2]\n",
      "[4, 0, 3, 6, 2, 5, 1]\n",
      "[4, 0, 5, 3, 1, 6, 2]\n",
      "[4, 1, 5, 2, 6, 3, 0]\n",
      "[4, 2, 0, 5, 3, 1, 6]\n",
      "[4, 6, 1, 3, 5, 0, 2]\n",
      "[4, 6, 1, 5, 2, 0, 3]\n",
      "[5, 0, 2, 4, 6, 1, 3]\n",
      "[5, 1, 4, 0, 3, 6, 2]\n",
      "[5, 2, 0, 3, 6, 4, 1]\n",
      "[5, 2, 4, 6, 0, 3, 1]\n",
      "[5, 2, 6, 3, 0, 4, 1]\n",
      "[5, 3, 1, 6, 4, 2, 0]\n",
      "[5, 3, 6, 0, 2, 4, 1]\n",
      "[6, 1, 3, 5, 0, 2, 4]\n",
      "[6, 2, 5, 1, 4, 0, 3]\n",
      "[6, 3, 0, 4, 1, 5, 2]\n",
      "[6, 4, 2, 0, 5, 3, 1]\n"
     ]
    }
   ],
   "source": [
    "#6) Miscelleneous Prob\n",
    "\n",
    "def is_safe(board, row, col, n):\n",
    "    for prev_row in range(row):\n",
    "        if board[prev_row] == col or \\\n",
    "           board[prev_row] - prev_row == col - row or \\\n",
    "           board[prev_row] + prev_row == col + row:\n",
    "            return False\n",
    "    return True\n",
    "\n",
    "def solve_n_queens_util(board, row, n):\n",
    "    if row == n:\n",
    "        return [board[:]]\n",
    "    solutions = []\n",
    "    for col in range(n):\n",
    "        if is_safe(board, row, col, n):\n",
    "            board[row] = col\n",
    "            solutions += solve_n_queens_util(board, row + 1, n)\n",
    "    return solutions\n",
    "\n",
    "def solve_n_queens(n):\n",
    "    board = [-1] * n\n",
    "    return solve_n_queens_util(board, 0, n)\n",
    "\n",
    "if __name__ == \"__main__\":\n",
    "    n = int(input(\"Enter the number of queens: \"))\n",
    "    solutions = solve_n_queens(n)\n",
    "    print(\"Number of solutions:\", len(solutions))\n",
    "    for solution in solutions:\n",
    "        print(solution)\n"
   ]
  }
 ],
 "metadata": {
  "kernelspec": {
   "display_name": "Python 3",
   "language": "python",
   "name": "python3"
  },
  "language_info": {
   "codemirror_mode": {
    "name": "ipython",
    "version": 3
   },
   "file_extension": ".py",
   "mimetype": "text/x-python",
   "name": "python",
   "nbconvert_exporter": "python",
   "pygments_lexer": "ipython3",
   "version": "3.10.4"
  }
 },
 "nbformat": 4,
 "nbformat_minor": 2
}
